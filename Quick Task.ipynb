{
 "cells": [
  {
   "cell_type": "code",
   "execution_count": 1,
   "metadata": {},
   "outputs": [],
   "source": [
    "import codecs\n",
    "import pandas as pd\n",
    "import numpy as np\n",
    "import matplotlib.pyplot as plt\n",
    "import pyemd\n",
    "\n",
    "import nltk\n",
    "from nltk.translate.bleu_score import sentence_bleu\n",
    "from nltk.corpus import stopwords as sw\n",
    "from nltk.stem import PorterStemmer\n",
    "from nltk.lm.models import Laplace\n",
    "from nltk.corpus import reuters\n",
    "from nltk.lm.preprocessing import padded_everygram_pipeline\n",
    "from nltk.lm import Vocabulary\n",
    "\n",
    "from gensim.models import Word2Vec\n",
    "import gensim.downloader\n",
    "\n",
    "from sklearn import preprocessing\n",
    "from sklearn.svm import SVC\n",
    "from sklearn.model_selection import train_test_split\n",
    "from sklearn.feature_selection import RFE\n",
    "\n",
    "from scipy.ndimage import gaussian_filter1d\n",
    "from time import sleep"
   ]
  },
  {
   "cell_type": "code",
   "execution_count": 2,
   "metadata": {},
   "outputs": [
    {
     "name": "stderr",
     "output_type": "stream",
     "text": [
      "[nltk_data] Downloading package stopwords to\n",
      "[nltk_data]     C:\\Users\\caleb\\AppData\\Roaming\\nltk_data...\n",
      "[nltk_data]   Package stopwords is already up-to-date!\n",
      "[nltk_data] Downloading package punkt to\n",
      "[nltk_data]     C:\\Users\\caleb\\AppData\\Roaming\\nltk_data...\n",
      "[nltk_data]   Package punkt is already up-to-date!\n"
     ]
    }
   ],
   "source": [
    "nltk.download('stopwords')\n",
    "nltk.download('punkt')\n",
    "stopwords = set(sw.words('english'))"
   ]
  },
  {
   "cell_type": "code",
   "execution_count": 3,
   "metadata": {},
   "outputs": [],
   "source": [
    "def txt_to_df(fname):\n",
    "    data = codecs.open(fname, 'r', encoding='utf8').read().split('\\n\\n')\n",
    "    data = [row.split(\"\\n\") for row in data]\n",
    "\n",
    "    # there's an empty line at the end of the file that was being included as a feature in the final item, so delete it\n",
    "    del data[-1][-1]\n",
    "\n",
    "    df = pd.DataFrame(data, columns=['chinese', 'reference', 'candidate', 'bleu', 'M_or_H'])\n",
    "    df['bleu'] = df['bleu'].astype(float)\n",
    "    return df"
   ]
  },
  {
   "cell_type": "code",
   "execution_count": 4,
   "metadata": {},
   "outputs": [],
   "source": [
    "def get_X_and_Y(data, x_cols, y_col):\n",
    "    return data.loc[:, x_cols], data[y_col]"
   ]
  },
  {
   "cell_type": "code",
   "execution_count": 5,
   "metadata": {},
   "outputs": [],
   "source": [
    "def avg_f1_score(actual, preds):\n",
    "    \n",
    "    def f1_score(pos_label):\n",
    "        # get count of true positives, false positives, and false negatives\n",
    "        tp = sum(1 for a, p in zip(actual, preds) if a == p == pos_label)\n",
    "        fp = sum(1 for a, p in zip(actual, preds) if a != pos_label and p == pos_label)\n",
    "        fn = sum(1 for a, p in zip(actual, preds) if a == pos_label and p != pos_label)\n",
    "        \n",
    "        return tp/(tp + (fp + fn)/2)\n",
    "        \n",
    "    return (f1_score('H') + f1_score('M'))/2"
   ]
  },
  {
   "cell_type": "code",
   "execution_count": 6,
   "metadata": {},
   "outputs": [],
   "source": [
    "def accuracy(actual, preds):\n",
    "    return sum(1 for a, p in zip(actual, preds) if a == p)/len(actual)"
   ]
  },
  {
   "cell_type": "code",
   "execution_count": 7,
   "metadata": {
    "scrolled": true
   },
   "outputs": [],
   "source": [
    "def bleu_score(reference, candidate, n):\n",
    "    # expects a list of references, so put it in a list by itself\n",
    "    reference = [reference.split(\" \")]\n",
    "    candidate = candidate.split(\" \")\n",
    "    weights = [1 if i == n-1 else 0 for i in range(4)]\n",
    "    return sentence_bleu(reference, candidate, weights=weights)"
   ]
  },
  {
   "cell_type": "code",
   "execution_count": 8,
   "metadata": {},
   "outputs": [],
   "source": [
    "# load pre-trained model for word vectors\n",
    "word_vectors = gensim.downloader.load(\"glove-wiki-gigaword-100\")\n",
    "# normalize vectors to unit length\n",
    "word_vectors.init_sims(replace=True)"
   ]
  },
  {
   "cell_type": "code",
   "execution_count": 9,
   "metadata": {},
   "outputs": [],
   "source": [
    "# object used to remove word stems\n",
    "stemmer = PorterStemmer()"
   ]
  },
  {
   "cell_type": "code",
   "execution_count": 10,
   "metadata": {},
   "outputs": [],
   "source": [
    "# load and preprocess English news corpus\n",
    "# corpus comes from COCA text_news, at https://www.corpusdata.org/formats.asp\n",
    "# some preprocessing was involved outside of Python to break it up into manageable lines\n",
    "news_sents = []\n",
    "with open(\"text_news_pp.txt\") as infile:\n",
    "    for line in infile:\n",
    "        words = list(map(str.lower, nltk.tokenize.word_tokenize(line)))\n",
    "        curr_sent = []\n",
    "        # considered spoiled if the first sentence in the line or an html tag\n",
    "        spoiled = True\n",
    "        for word in words:\n",
    "            if not word:\n",
    "                continue\n",
    "            # spoil if we see an html tag\n",
    "            if word[0] == '>':\n",
    "                spoiled = True\n",
    "            if not spoiled:\n",
    "                curr_sent.append(word)\n",
    "            # when we see a period, reset, and save to news_sents if not spoiled\n",
    "            if word == '.':\n",
    "                if not spoiled:\n",
    "                    news_sents.append(curr_sent)\n",
    "                spoiled = False\n",
    "                curr_sent = []"
   ]
  },
  {
   "cell_type": "code",
   "execution_count": 11,
   "metadata": {},
   "outputs": [],
   "source": [
    "# train a language model on the preprocessed news dataset\n",
    "# adapted from https://stackoverflow.com/questions/54941966/\n",
    "train_data = [nltk.trigrams(t,  pad_right=True, pad_left=True, left_pad_symbol=\"<s>\", right_pad_symbol=\"</s>\") for t in news_sents]\n",
    "words = {word for sent in news_sents for word in sent}\n",
    "words.update([\"<s>\", \"</s>\"])\n",
    "padded_vocab = Vocabulary(words)\n",
    "lang_model = Laplace(3)\n",
    "lang_model.fit(train_data, padded_vocab)"
   ]
  },
  {
   "cell_type": "code",
   "execution_count": 12,
   "metadata": {},
   "outputs": [],
   "source": [
    "def preprocess_best_vec_matches(sentence):\n",
    "    # split by spaces\n",
    "    sentence = sentence.split(\" \")\n",
    "    \n",
    "    result = []\n",
    "    for w in sentence:\n",
    "        w_stem = stemmer.stem(w)\n",
    "        w_in_vocab = w in word_vectors.wv.vocab\n",
    "        w_stem_in_vocab = w_stem in word_vectors.wv.vocab\n",
    "        \n",
    "        # if the stem isn't in vocab, the next best thing is the original word\n",
    "        if w not in stopwords and len(w) > 1 and (w_in_vocab or w_stem_in_vocab):\n",
    "            if w_stem_in_vocab:\n",
    "                result.append(w_stem)\n",
    "            else:\n",
    "                result.append(w)\n",
    "                \n",
    "    return result"
   ]
  },
  {
   "cell_type": "code",
   "execution_count": 13,
   "metadata": {},
   "outputs": [],
   "source": [
    "# the same as the last method, but no stemming; this worked better experimentally\n",
    "# probably because the last method still let through some stems that aren't common words, like \"la\" and \"vega\" for las vegas\n",
    "# the previous method would work, if the dataset used to train the word-vector model was already stemmed\n",
    "def preprocess_best_vec_matches_no_stem(sentence):\n",
    "    # split by spaces\n",
    "    sentence = sentence.split(\" \")\n",
    "    \n",
    "    result = []\n",
    "    for w in sentence:\n",
    "        if w not in stopwords and len(w) > 1 and w in word_vectors.wv.vocab:\n",
    "            result.append(w)\n",
    "                \n",
    "    return result"
   ]
  },
  {
   "cell_type": "code",
   "execution_count": 14,
   "metadata": {},
   "outputs": [],
   "source": [
    "# converts words to vectors and finds the closest match for each word in the candidate\n",
    "def best_vec_matches(reference, candidate):\n",
    "    # first, remove all stopwords, punctuation, and words not in vocab, then stem if possible\n",
    "    reference = preprocess_best_vec_matches_no_stem(reference)\n",
    "    candidate = preprocess_best_vec_matches_no_stem(candidate)\n",
    "    \n",
    "#     print(\"reference words: \" + str(reference), \"candidate words: \" + str(candidate), sep=\"\\n\")\n",
    "    \n",
    "    # find the most similar word in the reference for each word in the candidate\n",
    "    result = []\n",
    "    for c_word in reference:\n",
    "        # find the best word to fit c_word\n",
    "        max_sim = -float(\"inf\")\n",
    "        max_sim_word = None\n",
    "        for r_word in candidate:\n",
    "            sim = word_vectors.similarity(c_word, r_word)\n",
    "            if max_sim < sim:\n",
    "                max_sim = sim\n",
    "                max_sim_word = r_word\n",
    "#         print(\"Score {}: {}, {}\".format(max_sim, c_word, max_sim_word))\n",
    "        result.append(max_sim)\n",
    "        \n",
    "    # what is the score for the word with the worst match?\n",
    "    return sorted(result)"
   ]
  },
  {
   "cell_type": "code",
   "execution_count": 15,
   "metadata": {},
   "outputs": [],
   "source": [
    "# add bleu scores for various n-grams\n",
    "def add_bleu_scores(df):\n",
    "    for n in range(1, 5):\n",
    "        df['bleu' + str(n)] = df.apply(lambda row: bleu_score(row['reference'], row['candidate'], n), axis=1)\n",
    "\n",
    "# use word2vec to get the three smallest/worst \"best vector matches\"\n",
    "def add_smallest_best_vector_matches(df):\n",
    "    num_vec_matches = 3\n",
    "    vec_matches = [[] for _ in range(num_vec_matches)]\n",
    "    \n",
    "    for row in df.itertuples():\n",
    "        matches = best_vec_matches(row.reference, row.candidate)\n",
    "        for m in range(num_vec_matches):\n",
    "            # if matches is not long enough, just append a score of 1 instead\n",
    "            vec_matches[m].append(matches[m] if m < len(matches) else 1)\n",
    "    \n",
    "    for i in range(num_vec_matches):\n",
    "        df['vec_match_' + str(i)] = vec_matches[i]\n",
    "\n",
    "# word mover's distance is an existing metric for determining similarity between sentences\n",
    "def add_word_movers_distance(df):\n",
    "    def wmdist(row):\n",
    "        cand_split = row.candidate.split(\" \")\n",
    "        ref_split = row.reference.split(\" \")\n",
    "        return word_vectors.wmdistance(cand_split, ref_split)\n",
    "    df['wmdist'] = df.apply(wmdist, axis=1)\n",
    "\n",
    "# use a language model to estimate the perplexity of the sentence\n",
    "def add_perplexity(df):\n",
    "    def perplexity(row):\n",
    "        perplex_text = list(map(str.lower, nltk.tokenize.word_tokenize(row.candidate)))\n",
    "        padded_text = nltk.trigrams(perplex_text, pad_right=True, pad_left=True,\n",
    "                                    left_pad_symbol=\"<s>\", right_pad_symbol=\"</s>\")\n",
    "        return lang_model.perplexity(padded_text)\n",
    "        \n",
    "    df['perplexity'] = df.apply(perplexity, axis=1)\n",
    "\n",
    "# get the word count of the candidate and the reference\n",
    "def add_word_counts(df):\n",
    "    df['chinese_word_count'] = df.apply(lambda row: len(row.chinese.split(\" \")), axis=1)\n",
    "    df['cand_word_count'] = df.apply(lambda row: len(row.candidate.split(\" \")), axis=1)\n",
    "    df['ref_word_count'] = df.apply(lambda row: len(row.reference.split(\" \")), axis=1)"
   ]
  },
  {
   "cell_type": "code",
   "execution_count": 17,
   "metadata": {},
   "outputs": [],
   "source": [
    "def add_features(df):\n",
    "    add_bleu_scores(df)\n",
    "    add_smallest_best_vector_matches(df)\n",
    "    add_word_movers_distance(df)\n",
    "    add_perplexity(df)\n",
    "    add_word_counts(df)"
   ]
  },
  {
   "cell_type": "code",
   "execution_count": 18,
   "metadata": {},
   "outputs": [
    {
     "name": "stderr",
     "output_type": "stream",
     "text": [
      "C:\\Users\\caleb\\Anaconda3\\lib\\site-packages\\nltk\\translate\\bleu_score.py:523: UserWarning: \n",
      "The hypothesis contains 0 counts of 4-gram overlaps.\n",
      "Therefore the BLEU score evaluates to 0, independently of\n",
      "how many N-gram overlaps of lower order it contains.\n",
      "Consider using lower n-gram order or use SmoothingFunction()\n",
      "  warnings.warn(_msg)\n",
      "C:\\Users\\caleb\\Anaconda3\\lib\\site-packages\\nltk\\translate\\bleu_score.py:523: UserWarning: \n",
      "The hypothesis contains 0 counts of 3-gram overlaps.\n",
      "Therefore the BLEU score evaluates to 0, independently of\n",
      "how many N-gram overlaps of lower order it contains.\n",
      "Consider using lower n-gram order or use SmoothingFunction()\n",
      "  warnings.warn(_msg)\n",
      "C:\\Users\\caleb\\Anaconda3\\lib\\site-packages\\nltk\\translate\\bleu_score.py:523: UserWarning: \n",
      "The hypothesis contains 0 counts of 2-gram overlaps.\n",
      "Therefore the BLEU score evaluates to 0, independently of\n",
      "how many N-gram overlaps of lower order it contains.\n",
      "Consider using lower n-gram order or use SmoothingFunction()\n",
      "  warnings.warn(_msg)\n",
      "C:\\Users\\caleb\\Anaconda3\\lib\\site-packages\\ipykernel_launcher.py:10: DeprecationWarning: Call to deprecated `wv` (Attribute will be removed in 4.0.0, use self instead).\n",
      "  # Remove the CWD from sys.path while we load stuff.\n"
     ]
    }
   ],
   "source": [
    "og_train = txt_to_df(\"train.txt\")\n",
    "og_test = txt_to_df(\"test.txt\")\n",
    "add_features(og_train)\n",
    "add_features(og_test)\n",
    "all_data = pd.concat([og_train, og_test])"
   ]
  },
  {
   "cell_type": "code",
   "execution_count": 19,
   "metadata": {},
   "outputs": [],
   "source": [
    "# set X and Y columns\n",
    "all_x_cols = ['bleu', 'bleu1', 'bleu2', 'bleu3', 'bleu4', 'vec_match_0', 'vec_match_1', 'vec_match_2', \"chinese_word_count\", \"ref_word_count\", \"cand_word_count\", 'wmdist', 'perplexity']\n",
    "x_cols = ['bleu', 'bleu1', 'bleu2', 'vec_match_0', \"chinese_word_count\", \"ref_word_count\", \"cand_word_count\", 'perplexity']\n",
    "#x_cols = [\"perplexity\"]\n",
    "y_col = 'M_or_H'"
   ]
  },
  {
   "cell_type": "code",
   "execution_count": 20,
   "metadata": {},
   "outputs": [
    {
     "name": "stdout",
     "output_type": "stream",
     "text": [
      "Mean Train F1:  0.7828714089848381\n",
      "Mean Test F1:  0.7724010313700773\n"
     ]
    },
    {
     "data": {
      "image/png": "[encoded data removed]",
      "text/plain": [
       "<Figure size 432x288 with 1 Axes>"
      ]
     },
     "metadata": {
      "needs_background": "light"
     },
     "output_type": "display_data"
    }
   ],
   "source": [
    "# I used this code to test and select multiple hyperparameters, in this case the C value for the SVM.\n",
    "num_trials = 200\n",
    "train_f1 = np.zeros(num_trials)\n",
    "test_f1 = np.zeros(num_trials)\n",
    "linspace = np.linspace(0, 6, num=num_trials)\n",
    "for i, log_C in enumerate(linspace): # previously used this to test different hyperparameters\n",
    "    C = 2**log_C\n",
    "    train, test = train_test_split(all_data, test_size=0.2)\n",
    "    trainX, trainY = get_X_and_Y(train, x_cols, y_col)\n",
    "    testX, testY = get_X_and_Y(test, x_cols, y_col)\n",
    "\n",
    "    # preprocess for scale and mean\n",
    "    scaler = preprocessing.StandardScaler().fit(trainX)\n",
    "    trainX_scaled = scaler.transform(trainX)\n",
    "    testX_scaled = scaler.transform(testX)\n",
    "\n",
    "    # fit to train data and predict trainY and testY\n",
    "    svc = SVC(gamma='auto', kernel='linear', C=C)\n",
    "    svc.fit(trainX_scaled, trainY)\n",
    "    train_preds = svc.predict(trainX_scaled)\n",
    "    test_preds = svc.predict(testX_scaled)\n",
    "    \n",
    "    train_f1[i] = avg_f1_score(trainY, train_preds)\n",
    "    test_f1[i] = avg_f1_score(testY, test_preds)\n",
    "    \n",
    "smooth_factor = 5\n",
    "train_f1_smoothed = gaussian_filter1d(train_f1[:67000], smooth_factor)\n",
    "test_f1_smoothed = gaussian_filter1d(test_f1[:67000], smooth_factor)\n",
    "plt.plot(linspace[:67000], train_f1_smoothed, color='blue')\n",
    "plt.plot(linspace[:67000], test_f1_smoothed, color='red')\n",
    "\n",
    "print(\"Mean Train F1: \", np.mean(train_f1))\n",
    "print(\"Mean Test F1: \", np.mean(test_f1))"
   ]
  },
  {
   "cell_type": "code",
   "execution_count": 21,
   "metadata": {},
   "outputs": [
    {
     "data": {
      "text/plain": [
       "[<matplotlib.lines.Line2D at 0x294b7beaa08>]"
      ]
     },
     "execution_count": 21,
     "metadata": {},
     "output_type": "execute_result"
    },
    {
     "data": {
      "image/png": "[encoded data removed]",
      "text/plain": [
       "<Figure size 432x288 with 1 Axes>"
      ]
     },
     "metadata": {
      "needs_background": "light"
     },
     "output_type": "display_data"
    }
   ],
   "source": [
    "# This is similar code, but set up to test which features should be used, determined by RFE\n",
    "num_trials = 100\n",
    "train_f1 = np.zeros((num_trials, len(x_cols)))\n",
    "test_f1 = np.zeros((num_trials, len(x_cols)))\n",
    "for trial in range(num_trials):\n",
    "    train, test = train_test_split(all_data, test_size=0.2)\n",
    "    trainX, trainY = get_X_and_Y(train, x_cols, y_col)\n",
    "    testX, testY = get_X_and_Y(test, x_cols, y_col)\n",
    "\n",
    "    # preprocess for scale and mean\n",
    "    scaler = preprocessing.StandardScaler().fit(trainX)\n",
    "    trainX_scaled = scaler.transform(trainX)\n",
    "    testX_scaled = scaler.transform(testX)\n",
    "\n",
    "    svc = SVC(gamma='auto', kernel='linear', C=0.5)\n",
    "    \n",
    "    # try removing varying numbers of features to reduce overfitting\n",
    "    selector = RFE(svc, n_features_to_select=1, step=1)\n",
    "    selector = selector.fit(trainX_scaled, trainY)\n",
    "    ranking = selector.ranking_\n",
    "    for rank in range(len(ranking)):\n",
    "        # rank starts from 0, but the ranks in ranking start from 1\n",
    "        trainX_selected = trainX_scaled[:, [r <= rank+1 for r in ranking]]\n",
    "        testX_selected = testX_scaled[:, [r <= rank+1 for r in ranking]]\n",
    "\n",
    "        # fit to train data and predict trainY and testY\n",
    "        svc.fit(trainX_selected, trainY)\n",
    "        train_preds = svc.predict(trainX_selected)\n",
    "        test_preds = svc.predict(testX_selected)\n",
    "    \n",
    "        train_f1[trial, rank] = avg_f1_score(trainY, train_preds)\n",
    "        test_f1[trial, rank] = avg_f1_score(testY, test_preds)\n",
    "    \n",
    "plt.plot(range(len(x_cols)), np.mean(train_f1, axis=0), color='blue')\n",
    "plt.plot(range(len(x_cols)), np.mean(test_f1, axis=0), color='red')"
   ]
  },
  {
   "cell_type": "code",
   "execution_count": 22,
   "metadata": {},
   "outputs": [
    {
     "name": "stdout",
     "output_type": "stream",
     "text": [
      "Train F1:  0.7765481516364492\n",
      "Test F1:  0.7816091954022989\n"
     ]
    }
   ],
   "source": [
    "# train and test on the original train/test datasets\n",
    "trainX, trainY = get_X_and_Y(og_train, x_cols, y_col)\n",
    "testX, testY = get_X_and_Y(og_test, x_cols, y_col)\n",
    "\n",
    "# preprocess for scale and mean\n",
    "scaler = preprocessing.StandardScaler().fit(trainX)\n",
    "trainX_scaled = scaler.transform(trainX)\n",
    "testX_scaled = scaler.transform(testX)\n",
    "\n",
    "# fit to train data and predict trainY and testY\n",
    "svc = SVC(gamma='auto', kernel='linear', C=8)\n",
    "svc.fit(trainX_scaled, trainY)\n",
    "train_preds = svc.predict(trainX_scaled)\n",
    "test_preds = svc.predict(testX_scaled)\n",
    "\n",
    "print(\"Train F1: \", avg_f1_score(trainY, train_preds))\n",
    "print(\"Test F1: \", avg_f1_score(testY, test_preds))"
   ]
  }
 ],
 "metadata": {
  "kernelspec": {
   "display_name": "Python 3",
   "language": "python",
   "name": "python3"
  },
  "language_info": {
   "codemirror_mode": {
    "name": "ipython",
    "version": 3
   },
   "file_extension": ".py",
   "mimetype": "text/x-python",
   "name": "python",
   "nbconvert_exporter": "python",
   "pygments_lexer": "ipython3",
   "version": "3.7.4"
  }
 },
 "nbformat": 4,
 "nbformat_minor": 2
}
